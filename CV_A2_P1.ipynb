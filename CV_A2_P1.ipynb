{
  "nbformat": 4,
  "nbformat_minor": 0,
  "metadata": {
    "colab": {
      "provenance": [],
      "authorship_tag": "ABX9TyNhtnSeFaaKf/w5Fe9zYknm"
    },
    "kernelspec": {
      "name": "python3",
      "display_name": "Python 3"
    },
    "language_info": {
      "name": "python"
    }
  },
  "cells": [
    {
      "cell_type": "markdown",
      "source": [
        "### This assignment contains several problems in which you have to use MATLAB/Python. Your deliverable should be in the form of a Jupyter Notebook in which you describe what you did in each problem and why. Include all your relevant code segments as well as your explanations and results figures. I highly encourage you to write the report as you are working on the solution, and not leave the report till the end, because that would just increase the amount of effort required.\n",
        "### Zip all the resources (if required) for each problem, named by the problem number, and upload them along with your notebooks.\n",
        "### There are some bonus problems in the assignment that can earn CS867 students up to 20% additional points. I would recommend that you attempt them in the end, only after you have written down the solution to each of the required problems."
      ],
      "metadata": {
        "id": "gH1IV8K_qXeK"
      }
    },
    {
      "cell_type": "markdown",
      "source": [
        "## Problem 1. [30 points]\n",
        "Consider the GIF image provided with this assignment, which shows a sequence of frames taken by a camera. A few frames from the sequence are shown below."
      ],
      "metadata": {
        "id": "05ob6XRMq0t1"
      }
    },
    {
      "cell_type": "markdown",
      "source": [
        "### a. [5 points]\n",
        "Describe in words and through means of a diagram how this set of images\n",
        "were taken.\n"
      ],
      "metadata": {
        "id": "sQ9TJ431rL1T"
      }
    },
    {
      "cell_type": "markdown",
      "source": [
        "### b. [10 points]\n",
        "Mathematically describe the relationship between the camera extrinsic and\n",
        "intrinsic parameters if such an image sequence is to be captured."
      ],
      "metadata": {
        "id": "SX87INhCrZKN"
      }
    },
    {
      "cell_type": "markdown",
      "source": [
        "### c. [15 points]\n",
        "Using your phone camera, try to capture a similar sequence as accurately as possible. Describe the setup you used and what steps you took to ensure accuracy in your setup. Convert your sequence to a GIF and submit it with your assignment.\n"
      ],
      "metadata": {
        "id": "GEtzLEH1rnKv"
      }
    }
  ]
}